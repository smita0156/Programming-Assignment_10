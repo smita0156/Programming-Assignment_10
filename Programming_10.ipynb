{
 "cells": [
  {
   "cell_type": "code",
   "execution_count": null,
   "id": "5ad38c6d-d884-4432-8277-54726d4d4974",
   "metadata": {},
   "outputs": [],
   "source": [
    "1. Write a Python program to find sum of elements in list?"
   ]
  },
  {
   "cell_type": "code",
   "execution_count": 1,
   "id": "6c5e7ff7-edb5-4702-a283-f83cf929024d",
   "metadata": {},
   "outputs": [
    {
     "name": "stdin",
     "output_type": "stream",
     "text": [
      "Enter the lenth of your list :  7\n",
      " 5\n",
      " 7\n",
      " 9\n",
      " 1\n",
      " 3\n",
      " 5\n",
      " 5\n"
     ]
    },
    {
     "name": "stdout",
     "output_type": "stream",
     "text": [
      "The List is  [5, 7, 9, 1, 3, 5, 5]\n",
      "Sum of elements in List 35\n"
     ]
    }
   ],
   "source": [
    "\n",
    "n = int(input(\"Enter the lenth of your list : \"))\n",
    "lst = []\n",
    "\n",
    "for i in range(n):\n",
    "    lst.append(int(input()))\n",
    "print(\"The List is \",lst)\n",
    "print(\"Sum of elements in List\",sum(lst))\n"
   ]
  },
  {
   "cell_type": "code",
   "execution_count": null,
   "id": "b189e93c-84e3-4f8d-a19f-bf8099da5d2f",
   "metadata": {},
   "outputs": [],
   "source": [
    "2. Write a Python program to Multiply all numbers in the list?"
   ]
  },
  {
   "cell_type": "code",
   "execution_count": 2,
   "id": "300eb671-65d1-4929-b8b5-b80a5308292e",
   "metadata": {},
   "outputs": [
    {
     "name": "stdin",
     "output_type": "stream",
     "text": [
      "Enter the lenth of your list :  4\n",
      " 1\n",
      " 2\n",
      " 3\n",
      " 4\n"
     ]
    },
    {
     "name": "stdout",
     "output_type": "stream",
     "text": [
      "The List is  [1, 2, 3, 4]\n",
      "Product of elements in List is : 24\n"
     ]
    }
   ],
   "source": [
    "\n",
    "n = int(input(\"Enter the lenth of your list : \"))\n",
    "lst = []\n",
    "\n",
    "for i in range(n):\n",
    "    lst.append(int(input()))\n",
    "print(\"The List is \",lst)\n",
    "product = 1\n",
    "for i in lst:\n",
    "    product = product*i\n",
    "print(\"Product of elements in List is :\",product)\n",
    "     "
   ]
  },
  {
   "cell_type": "code",
   "execution_count": null,
   "id": "30a0455c-8239-47be-99f5-7d7e453746b1",
   "metadata": {},
   "outputs": [],
   "source": [
    "3. Write a Python program to find smallest number in a list?"
   ]
  },
  {
   "cell_type": "code",
   "execution_count": 3,
   "id": "3555e74a-4c89-4459-9468-e2eb670a2b84",
   "metadata": {},
   "outputs": [
    {
     "name": "stdin",
     "output_type": "stream",
     "text": [
      "Enter the lenth of your list :  4\n",
      " 1\n",
      " 2\n",
      " 3\n",
      " 4\n"
     ]
    },
    {
     "name": "stdout",
     "output_type": "stream",
     "text": [
      "The List is  [1, 2, 3, 4]\n",
      "The Smallest no. in the list is : 1\n"
     ]
    }
   ],
   "source": [
    "\n",
    "n = int(input(\"Enter the lenth of your list : \"))\n",
    "lst = []\n",
    "\n",
    "for i in range(n):\n",
    "    lst.append(int(input()))\n",
    "print(\"The List is \",lst)\n",
    "print(\"The Smallest no. in the list is :\",min(lst))\n",
    "     "
   ]
  },
  {
   "cell_type": "code",
   "execution_count": null,
   "id": "1e380700-ffa4-4a24-bdba-19c15721187d",
   "metadata": {},
   "outputs": [],
   "source": [
    "4. Write a Python program to find largest number in a list?"
   ]
  },
  {
   "cell_type": "code",
   "execution_count": 8,
   "id": "dad2f6f9-620b-405f-a4c8-3e12ceba820e",
   "metadata": {},
   "outputs": [
    {
     "name": "stdin",
     "output_type": "stream",
     "text": [
      "Enter the lenth of your list :  5\n",
      " 1\n",
      " 2\n",
      " 3\n",
      " 4\n",
      " 5\n"
     ]
    },
    {
     "name": "stdout",
     "output_type": "stream",
     "text": [
      "The List is  [1, 2, 3, 4, 5]\n",
      "The largest no. in the list is : 5\n"
     ]
    }
   ],
   "source": [
    "\n",
    "n = int(input(\"Enter the lenth of your list : \"))\n",
    "lst = []\n",
    "\n",
    "for i in range(n):\n",
    "    lst.append(int(input()))\n",
    "print(\"The List is \",lst)\n",
    "print(\"The largest no. in the list is :\",max(lst))\n",
    "     "
   ]
  },
  {
   "cell_type": "code",
   "execution_count": null,
   "id": "d5afa0bd-6373-49b9-be3b-0c4710b06b5e",
   "metadata": {},
   "outputs": [],
   "source": [
    "5. Write a Python program to find second largest number in a list?"
   ]
  },
  {
   "cell_type": "code",
   "execution_count": 7,
   "id": "67f1ffd4-94fc-43c9-93a6-a5f4bbf401a8",
   "metadata": {},
   "outputs": [
    {
     "name": "stdin",
     "output_type": "stream",
     "text": [
      "Enter the lenth of your list :  5\n",
      " 1\n",
      " 2\n",
      " 3\n",
      " 4\n",
      " 5\n"
     ]
    },
    {
     "name": "stdout",
     "output_type": "stream",
     "text": [
      "The List is  [1, 2, 3, 4, 5]\n",
      "The sorted list is  [1, 2, 3, 4, 5]\n",
      "The second largest number in the list is  4\n"
     ]
    }
   ],
   "source": [
    "\n",
    "n = int(input(\"Enter the lenth of your list : \"))\n",
    "lst = []\n",
    "\n",
    "for i in range(n):\n",
    "    lst.append(int(input()))\n",
    "print(\"The List is \",lst)\n",
    "lst.sort()\n",
    "print(\"The sorted list is \",lst)\n",
    "print(\"The second largest number in the list is \",lst[-2])\n",
    "     "
   ]
  },
  {
   "cell_type": "code",
   "execution_count": null,
   "id": "2edea856-3997-4719-8e43-88418a2397ba",
   "metadata": {},
   "outputs": [],
   "source": [
    "6. Write a Python program to find N largest elements from a list?"
   ]
  },
  {
   "cell_type": "code",
   "execution_count": 6,
   "id": "cd90f22b-7188-4aa2-98a2-fab9d36d66e3",
   "metadata": {},
   "outputs": [
    {
     "name": "stdin",
     "output_type": "stream",
     "text": [
      "Enter the lenth of your list :  5\n",
      " 22\n",
      " 55\n",
      " 1\n",
      " 88\n",
      " 66\n"
     ]
    },
    {
     "name": "stdout",
     "output_type": "stream",
     "text": [
      "The List is  [22, 55, 1, 88, 66]\n",
      "The sorted list is  [1, 22, 55, 66, 88]\n"
     ]
    },
    {
     "name": "stdin",
     "output_type": "stream",
     "text": [
      "Enter how many largest number you want from list: 3\n"
     ]
    },
    {
     "name": "stdout",
     "output_type": "stream",
     "text": [
      "3 largest elements from the list are : [55, 66, 88]\n"
     ]
    }
   ],
   "source": [
    "\n",
    "n = int(input(\"Enter the lenth of your list : \"))\n",
    "lst = []\n",
    "\n",
    "for i in range(n):\n",
    "    lst.append(int(input()))\n",
    "print(\"The List is \",lst)\n",
    "lst.sort()\n",
    "print(\"The sorted list is \",lst)\n",
    "nlar = int(input(\"Enter how many largest number you want from list:\"))\n",
    "\n",
    "if n < nlar :\n",
    "    print(\"enterted value is larger then the length of list\")\n",
    "else:\n",
    "    print(nlar,\"largest elements from the list are :\",lst[(n-nlar):])\n",
    "     "
   ]
  },
  {
   "cell_type": "code",
   "execution_count": null,
   "id": "67b34614-d7a9-48b2-a7fc-923549010fa3",
   "metadata": {},
   "outputs": [],
   "source": [
    "7. Write a Python program to print even numbers in a list?"
   ]
  },
  {
   "cell_type": "code",
   "execution_count": 9,
   "id": "edd8b09e-f349-4edd-81fc-9f48e8660b9c",
   "metadata": {},
   "outputs": [
    {
     "name": "stdin",
     "output_type": "stream",
     "text": [
      "Enter  the len of the list : 5\n",
      " 22\n",
      " 11\n",
      " 33\n",
      " 44\n",
      " 55\n"
     ]
    },
    {
     "name": "stdout",
     "output_type": "stream",
     "text": [
      "The List is : [22, 11, 33, 44, 55]\n",
      "The even numbers in list [22, 44]\n"
     ]
    }
   ],
   "source": [
    "\n",
    "lent =  int(input(\"Enter  the len of the list :\"))\n",
    "lst = []\n",
    "for i in  range(lent):\n",
    "  lst.append(int(input()))\n",
    "print(\"The List is :\" ,lst)\n",
    "even = [i for i in lst if i%2==0 ]\n",
    "print(\"The even numbers in list\" , even)\n",
    "\n",
    "     "
   ]
  },
  {
   "cell_type": "code",
   "execution_count": null,
   "id": "3a81668f-98d1-45aa-a152-6dfab070e341",
   "metadata": {},
   "outputs": [],
   "source": [
    "8. Write a Python program to print odd numbers in a List?"
   ]
  },
  {
   "cell_type": "code",
   "execution_count": null,
   "id": "eac7900c-6e66-475d-ad9a-c580f8c88ca8",
   "metadata": {},
   "outputs": [],
   "source": [
    "\n",
    "lent =  int(input(\"Enter  the len of the list :\"))\n",
    "lst = []\n",
    "for i in  range(lent):\n",
    "  lst.append(int(input()))\n",
    "print(\"The List is :\" ,lst)\n",
    "odd = [i for i in lst if i%2 != 0 ]\n",
    "print(\"The even numbers in list\" , odd)\n",
    "     "
   ]
  },
  {
   "cell_type": "code",
   "execution_count": null,
   "id": "24e70449-1142-423a-afac-7bb80261fa95",
   "metadata": {},
   "outputs": [],
   "source": [
    "Enter  the len of the list :5\n",
    "11\n",
    "22\n",
    "33\n",
    "44\n",
    "55\n",
    "The List is : [11, 22, 33, 44, 55]\n",
    "The even numbers in list [11, 33, 55]"
   ]
  },
  {
   "cell_type": "code",
   "execution_count": null,
   "id": "d5cc7044-29bf-41db-8ce4-9d330164c7cb",
   "metadata": {},
   "outputs": [],
   "source": [
    "9. Write a Python program to Remove empty List from List?"
   ]
  },
  {
   "cell_type": "code",
   "execution_count": null,
   "id": "037e1982-a976-492d-8bac-fde6e6e374a6",
   "metadata": {},
   "outputs": [],
   "source": [
    "\n",
    "lst = [55,[],14,75,[],96,80,[],36]\n",
    "print(\"The List :\",lst)\n",
    "new_list = [item for item in lst if item != []]\n",
    "print(\"The list after removing empty lists :\" , new_list)\n",
    "\n",
    "     "
   ]
  },
  {
   "cell_type": "code",
   "execution_count": null,
   "id": "827ca40e-d6bc-4d7c-9440-7a97bc83d52f",
   "metadata": {},
   "outputs": [],
   "source": [
    "The List : [55, [], 14, 75, [], 96, 80, [], 36]\n",
    "The list after removing empty lists : [55, 14, 75, 96, 80, 36]"
   ]
  },
  {
   "cell_type": "code",
   "execution_count": null,
   "id": "357099fe-3b44-4dcc-ab26-c9c6635e1290",
   "metadata": {},
   "outputs": [],
   "source": [
    "10. Write a Python program to Cloning or Copying a list?"
   ]
  },
  {
   "cell_type": "code",
   "execution_count": null,
   "id": "7fc790b5-2e71-45b7-97a0-bbb65548d6fc",
   "metadata": {},
   "outputs": [],
   "source": [
    "\n",
    "n = int(input(\"Enter the lenth of your list : \"))\n",
    "lst = []\n",
    "\n",
    "for i in range(n):\n",
    "    lst.append(int(input()))\n",
    "print(\"The List is \",lst)\n",
    "\n",
    "lst_copy = lst.copy()\n",
    "print(\"Cloning By list copying lst \",lst_copy)\n",
    "     "
   ]
  },
  {
   "cell_type": "code",
   "execution_count": null,
   "id": "857a3cd1-6bcb-4af8-aed1-1ed07a5839de",
   "metadata": {},
   "outputs": [],
   "source": [
    "Enter the lenth of your list : 4\n",
    "22\n",
    "33\n",
    "88\n",
    "99\n",
    "The List is  [22, 33, 88, 99]\n",
    "Cloning By list copying lst  [22, 33, 88, 99]"
   ]
  },
  {
   "cell_type": "code",
   "execution_count": null,
   "id": "e9d2ddb4-c1e9-4f83-9b92-900345924814",
   "metadata": {},
   "outputs": [],
   "source": [
    "11. Write a Python program to Count occurrences of an element in a list?"
   ]
  },
  {
   "cell_type": "code",
   "execution_count": null,
   "id": "e4aebae9-ff9c-43e2-91a3-bc591d9311d1",
   "metadata": {},
   "outputs": [],
   "source": [
    "\n",
    "lent = int(input(\"Enter the lenth of your list : \"))\n",
    "lst = []\n",
    "\n",
    "for i in range(lent):\n",
    "    lst.append(int(input()))\n",
    "print(\"The List is \",lst)\n",
    "ele= int(input(\"Enter the element to find its occurance : \"))\n",
    "print(ele,\"has occured {} times in the list \".format(lst.count(ele)))\n",
    "\n",
    "     "
   ]
  },
  {
   "cell_type": "code",
   "execution_count": null,
   "id": "b8fd03f1-0692-4d5b-8606-bbfe32cb2e76",
   "metadata": {},
   "outputs": [],
   "source": [
    "Enter the lenth of your list : 5\n",
    "1\n",
    "2\n",
    "3\n",
    "2\n",
    "1\n",
    "The List is  [1, 2, 3, 2, 1]\n",
    "Enter the element to find its occurance : 2\n",
    "2 has occured 2 times in the list "
   ]
  }
 ],
 "metadata": {
  "kernelspec": {
   "display_name": "Python 3 (ipykernel)",
   "language": "python",
   "name": "python3"
  },
  "language_info": {
   "codemirror_mode": {
    "name": "ipython",
    "version": 3
   },
   "file_extension": ".py",
   "mimetype": "text/x-python",
   "name": "python",
   "nbconvert_exporter": "python",
   "pygments_lexer": "ipython3",
   "version": "3.10.6"
  }
 },
 "nbformat": 4,
 "nbformat_minor": 5
}
